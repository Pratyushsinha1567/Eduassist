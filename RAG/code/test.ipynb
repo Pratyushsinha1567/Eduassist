{
 "cells": [
  {
   "cell_type": "code",
   "execution_count": 1,
   "metadata": {},
   "outputs": [],
   "source": [
    "from langchain_community.document_loaders import UnstructuredMarkdownLoader\n",
    "from pathlib import Path"
   ]
  },
  {
   "cell_type": "code",
   "execution_count": 3,
   "metadata": {},
   "outputs": [],
   "source": [
    "import qdrant_client"
   ]
  },
  {
   "cell_type": "code",
   "execution_count": 4,
   "metadata": {},
   "outputs": [],
   "source": [
    "import os"
   ]
  },
  {
   "cell_type": "code",
   "execution_count": 15,
   "metadata": {},
   "outputs": [],
   "source": [
    "from llama_parse import LlamaParse\n",
    "instruction = \"\"\"The provided document is a kid-friendly version of the Ramayana.\n",
    "This story tells the adventures of Lord Rama, who is on a quest to rescue his wife, Sita, from the evil demon king, Ravana.\n",
    "Along the way, Rama is joined by his loyal brother Lakshmana and the brave monkey god Hanuman.\n",
    "The tale teaches important lessons about friendship, courage, and doing the right thing.\n",
    "It’s filled with exciting moments, characters, and valuable morals.\n",
    "Try to be precise while answering the questions.\"\"\"\n",
    "\n",
    "parser = LlamaParse(\n",
    "    api_key=\"llx-Zw7p4qcDV6c5uH5t43lNqNzbl1MmIqoFFHc8Ld4VPArvO7yI\",\n",
    "    result_type=\"markdown\",\n",
    "    parsing_instruction=instruction,\n",
    "    max_timeout=5000,\n",
    ")\n",
    "\n",
    "llama_parse_documents = await parser.aload_data(\"/kaggle/input/ramayana/RAMAYANA.pdf\")\n",
    "     "
   ]
  },
  {
   "cell_type": "code",
   "execution_count": 17,
   "metadata": {},
   "outputs": [],
   "source": [
    "import nltk\n",
    "# Download the punkt tokenizer\n",
    "nltk.download('punkt')\n",
    "\n",
    "# Define the path to your markdown file\n",
    "document_path = \"/kaggle/input/brandnewparse1/newmanparsed.md\"\n",
    "\n",
    "# Load the documents\n",
    "loader = UnstructuredMarkdownLoader(document_path)\n",
    "loaded_documents = loader.load()"
   ]
  },
  {
   "cell_type": "code",
   "execution_count": null,
   "metadata": {},
   "outputs": [],
   "source": [
    "import nltk\n",
    "# Download the punkt tokenizer\n",
    "nltk.download('punkt')\n",
    "\n",
    "# Define the path to your markdown file\n",
    "document_path = \"/kaggle/input/brandnewparse1/newmanparsed.md\"\n",
    "\n",
    "# Load the documents\n",
    "loader = UnstructuredMarkdownLoader(document_path)\n",
    "loaded_documents = loader.load()"
   ]
  },
  {
   "cell_type": "code",
   "execution_count": null,
   "metadata": {},
   "outputs": [],
   "source": [
    "\n",
    "print(docs[0].page_content)"
   ]
  },
  {
   "cell_type": "code",
   "execution_count": 18,
   "metadata": {},
   "outputs": [
    {
     "data": {
      "application/vnd.jupyter.widget-view+json": {
       "model_id": "16ba3fbe1cea4f93a0d48541f2ffde8e",
       "version_major": 2,
       "version_minor": 0
      },
      "text/plain": [
       "Fetching 5 files:   0%|          | 0/5 [00:00<?, ?it/s]"
      ]
     },
     "metadata": {},
     "output_type": "display_data"
    }
   ],
   "source": [
    "from langchain_community.embeddings.fastembed import FastEmbedEmbeddings\n",
    "embeddings = FastEmbedEmbeddings(model_name=\"BAAI/bge-base-en-v1.5\")"
   ]
  },
  {
   "cell_type": "code",
   "execution_count": null,
   "metadata": {},
   "outputs": [],
   "source": [
    "from langchain_qdrant import QdrantVectorStore\n",
    "\n",
    "\n",
    "qdrant = QdrantVectorStore.from_documents(\n",
    "    docs, embeddings, url=\"https://88e0ee91-dbf2-4315-81c6-eee01c389796.us-east4-0.gcp.cloud.qdrant.io\", api_key=\"5IFWpq9T4anC0G8lU3MzKylnef6bSpzSUduwcB073L5mUTr6_ANcsQ\", collection_name=\"newdoc\"\n",
    ")"
   ]
  },
  {
   "cell_type": "code",
   "execution_count": 1,
   "metadata": {},
   "outputs": [],
   "source": [
    "from langchain_community.embeddings.fastembed import FastEmbedEmbeddings\n",
    "from langchain_qdrant import QdrantVectorStore\n",
    "\n",
    "def initialize_qdrant():\n",
    "    # Create the embeddings inside the function\n",
    "    embeddings = FastEmbedEmbeddings(model_name=\"BAAI/bge-base-en-v1.5\")\n",
    "    \n",
    "    qdrant = QdrantVectorStore.from_existing_collection(\n",
    "        collection_name=\"newdoc\",\n",
    "        url=\"https://88e0ee91-dbf2-4315-81c6-eee01c389796.us-east4-0.gcp.cloud.qdrant.io\",\n",
    "        api_key=\"5IFWpq9T4anC0G8lU3MzKylnef6bSpzSUduwcB073L5mUTr6_ANcsQ\",\n",
    "        embedding=embeddings  # Pass the embeddings here\n",
    "    )\n",
    "    return qdrant\n",
    "\n",
    "qdrant = initialize_qdrant()"
   ]
  },
  {
   "cell_type": "code",
   "execution_count": 2,
   "metadata": {},
   "outputs": [],
   "source": [
    "from langchain.vectorstores import Qdrant\n",
    "qdrant = Qdrant.from_documents(\n",
    "    docs,\n",
    "    embeddings,\n",
    "    # location=\":memory:\",\n",
    "    path=\"./dub\",\n",
    "    collection_name=\"document_embeddings\",\n",
    ")\n"
   ]
  },
  {
   "cell_type": "code",
   "execution_count": 4,
   "metadata": {},
   "outputs": [],
   "source": [
    "%%time\n",
    "query = \"what is the books for the course code MA 101? \"\n",
    "similar_docs = qdrant.similarity_search_with_score(query)"
   ]
  },
  {
   "cell_type": "code",
   "execution_count": 20,
   "metadata": {},
   "outputs": [
    {
     "data": {
      "application/vnd.jupyter.widget-view+json": {
       "model_id": "89eab5f812bb454fb83fe052dc81df26",
       "version_major": 2,
       "version_minor": 0
      },
      "text/plain": [
       "Fetching 5 files:   0%|          | 0/5 [00:00<?, ?it/s]"
      ]
     },
     "metadata": {},
     "output_type": "display_data"
    }
   ],
   "source": [
    "from langchain_community.embeddings.fastembed import FastEmbedEmbeddings\n",
    "from langchain_qdrant import QdrantVectorStore\n",
    "\n",
    "def initialize_qdrant():\n",
    "    # Create the embeddings inside the function\n",
    "    embeddings = FastEmbedEmbeddings(model_name=\"BAAI/bge-base-en-v1.5\")\n",
    "    \n",
    "    qdrant = QdrantVectorStore.from_existing_collection(\n",
    "        collection_name=\"newdoc\",\n",
    "        url=\"https://88e0ee91-dbf2-4315-81c6-eee01c389796.us-east4-0.gcp.cloud.qdrant.io\",\n",
    "        api_key=\"5IFWpq9T4anC0G8lU3MzKylnef6bSpzSUduwcB073L5mUTr6_ANcsQ\",\n",
    "        embedding=embeddings  # Pass the embeddings here\n",
    "    )\n",
    "    return qdrant\n",
    "\n",
    "qdrant = initialize_qdrant()"
   ]
  },
  {
   "cell_type": "code",
   "execution_count": 21,
   "metadata": {},
   "outputs": [],
   "source": [
    "query = \"what is the books for the course code MA 101? \"\n",
    "similar_docs = qdrant.similarity_search_with_score(query)"
   ]
  },
  {
   "cell_type": "code",
   "execution_count": 22,
   "metadata": {},
   "outputs": [
    {
     "name": "stdout",
     "output_type": "stream",
     "text": [
      "text: Code\": \"MA 104\", \"Subject\": \"Information Technology and Computing Workshop\", \"Contact Hours\": \"1-0-3\", \"Credits\": 6}, {\"Category\": \"EP.ME 105.14\", \"Course Code\": \"ME 105\", \"Subject\": \"Manufacturing Practice-I\", \"Contact Hours\": \"0-0-3\", \"Credits\": 3}, {\"Category\": \"IH.H 105.14\", \"Course Code\": \"H 105\", \"Subject\": \"Philosophy/Education and Self\", \"Contact Hours\": \"2-1-0\", \"Credits\": 8} ], \"total_credits\": 63, \"optional_courses\": { \"Elementary Physical Education/Creative Practice\": {\"Course Code\":\n",
      "\n",
      "score: 0.6618959\n",
      "--------------------------------------------------------------------------------\n",
      "\n",
      "text: 10, \"Topics\": [ \"First order differential equations, Linear differential equations, Bernoulli equation, Homogeneous linear equations\" ] } }, \"Readings\": { \"Textbook\": \"Advanced Engineering Mathematics by Erwin Kreyszig, Wiley\", \"Reference Books\": [\"Linear Algebra by K. Hoffman and Ray Kunz\"] }, \"Other Sessions\": { \"Tutorials\": \"One tutorial session in groups of maximum 30 students for clearing doubts\", \"Laboratory\": \"NA\", \"Project\": \"None\" }, \"Assessment\": { \"HA\": \"0%\", \"Quizzes\": \"20%\", \"Period\n",
      "\n",
      "score: 0.62517965\n",
      "--------------------------------------------------------------------------------\n",
      "\n",
      "text: Financial Mathematics\n",
      "\n",
      "financial_mathematics = { \"Title\": \"Financial Mathematics\", \"Course Number\": \"DE.MA525.16\", \"Credits\": \"3-0-2 (11)\", \"Semester Offered\": \"IX\", \"Prerequisites\": [ \"Engineering Mathematics I\", \"Engineering Mathematics II\", \"Numerical Techniques\", \"Probability & Statistics\" ], \"Objective\": ( \"The course explores fundamentals of mathematical finance through asset pricing models, stochastic differential equations, and exotic options.\" ), \"Course Topics\": { \"Unit 1\": { \"Title\": \n",
      "\n",
      "score: 0.6116271\n",
      "--------------------------------------------------------------------------------\n",
      "\n",
      "text: mathematical_methods = { \"Title\": \"Mathematical Methods\", \"Course Number\": \"IS.MA 203.14\", \"Credits\": \"3-1-0 (11)\", \"Semester Offered\": \"Even\", \"Prerequisite\": \"Engineering Mathematics I\", \"Syllabus Committee Members\": [\"Dr. Subir Das\", \"Dr. Rajeev\"], \"Objective\": \"To provide engineering students with adequate knowledge of methods to find exact/approximate analytical solutions to engineering problems.\", \"Course Content\": { \"Unit I\": { \"Title\": \"Fourier and Laplace Transforms\", \"Lectures\": 12, \"T\n",
      "\n",
      "score: 0.61102307\n",
      "--------------------------------------------------------------------------------\n",
      "\n"
     ]
    }
   ],
   "source": [
    "for doc, score in similar_docs:\n",
    "    print(f\"text: {doc.page_content[:500]}\\n\")\n",
    "    print(f\"score: {score}\")\n",
    "    print(\"-\" * 80)\n",
    "    print()"
   ]
  },
  {
   "cell_type": "code",
   "execution_count": null,
   "metadata": {},
   "outputs": [],
   "source": []
  }
 ],
 "metadata": {
  "kernelspec": {
   "display_name": "base",
   "language": "python",
   "name": "python3"
  },
  "language_info": {
   "codemirror_mode": {
    "name": "ipython",
    "version": 3
   },
   "file_extension": ".py",
   "mimetype": "text/x-python",
   "name": "python",
   "nbconvert_exporter": "python",
   "pygments_lexer": "ipython3",
   "version": "3.11.5"
  }
 },
 "nbformat": 4,
 "nbformat_minor": 2
}
